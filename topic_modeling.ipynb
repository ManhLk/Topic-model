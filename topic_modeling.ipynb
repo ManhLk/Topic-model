{
 "cells": [
  {
   "cell_type": "code",
   "execution_count": 1,
   "metadata": {
    "ExecuteTime": {
     "end_time": "2021-07-05T09:03:52.793749Z",
     "start_time": "2021-07-05T09:03:51.406515Z"
    }
   },
   "outputs": [],
   "source": [
    "import pandas as pd\n",
    "import numpy as np\n",
    "import json\n",
    "import string\n",
    "import re\n",
    "from tqdm import tqdm\n",
    "import matplotlib.pyplot as plt\n",
    "from sklearn.feature_extraction.text import CountVectorizer, TfidfTransformer\n",
    "pd.set_option('display.max_rows', None, 'display.max_columns', None)"
   ]
  },
  {
   "cell_type": "code",
   "execution_count": 2,
   "metadata": {
    "ExecuteTime": {
     "end_time": "2021-07-05T09:03:55.147348Z",
     "start_time": "2021-07-05T09:03:55.144154Z"
    }
   },
   "outputs": [],
   "source": [
    "from collections import Counter"
   ]
  },
  {
   "cell_type": "code",
   "execution_count": 3,
   "metadata": {
    "ExecuteTime": {
     "end_time": "2021-07-05T09:04:07.459372Z",
     "start_time": "2021-07-05T09:04:01.134824Z"
    }
   },
   "outputs": [],
   "source": [
    "df_company = pd.read_csv('datasets/company.csv')"
   ]
  },
  {
   "cell_type": "code",
   "execution_count": 4,
   "metadata": {
    "ExecuteTime": {
     "end_time": "2021-07-05T09:04:08.898026Z",
     "start_time": "2021-07-05T09:04:08.868527Z"
    }
   },
   "outputs": [
    {
     "name": "stderr",
     "output_type": "stream",
     "text": [
      "31626it [00:00, 1608920.48it/s]\n"
     ]
    }
   ],
   "source": [
    "idx_company = {}\n",
    "for i, com in tqdm(enumerate(df_company['company'].values)):\n",
    "    idx_company[i] = com"
   ]
  },
  {
   "cell_type": "markdown",
   "metadata": {},
   "source": [
    "# Build vocab"
   ]
  },
  {
   "cell_type": "code",
   "execution_count": 5,
   "metadata": {
    "ExecuteTime": {
     "end_time": "2021-07-05T09:04:18.139304Z",
     "start_time": "2021-07-05T09:04:18.079093Z"
    }
   },
   "outputs": [],
   "source": [
    "vietnamese_vocab, english_vocab, normal_vocab = [], [], []\n",
    "with open('datasets/vocab/english/Oxford 5000.txt') as f:\n",
    "    english_vocab = f.readlines()\n",
    "english_vocab = [w[:-1] for w in english_vocab]\n",
    "    \n",
    "with open('datasets/vocab/vietnamese/Viet74K.txt') as f:\n",
    "    vietnamese_vocab = f.readlines()\n",
    "vietnamese_vocab = [w[:-1] for w in vietnamese_vocab if len(w.split())==1]\n",
    "\n",
    "normal_vocab = english_vocab + vietnamese_vocab"
   ]
  },
  {
   "cell_type": "code",
   "execution_count": 6,
   "metadata": {
    "ExecuteTime": {
     "end_time": "2021-07-05T09:04:19.725923Z",
     "start_time": "2021-07-05T09:04:19.718790Z"
    }
   },
   "outputs": [
    {
     "data": {
      "text/plain": [
       "11229"
      ]
     },
     "execution_count": 6,
     "metadata": {},
     "output_type": "execute_result"
    }
   ],
   "source": [
    "len(normal_vocab)"
   ]
  },
  {
   "cell_type": "code",
   "execution_count": 7,
   "metadata": {
    "ExecuteTime": {
     "end_time": "2021-07-05T09:51:07.224312Z",
     "start_time": "2021-07-05T09:04:21.222799Z"
    }
   },
   "outputs": [
    {
     "name": "stderr",
     "output_type": "stream",
     "text": [
      "31626it [46:45, 11.27it/s]\n"
     ]
    }
   ],
   "source": [
    "vocab_counter = Counter()\n",
    "for i, dict_word in tqdm(enumerate(df_company['bow'])):\n",
    "    vocab_counter += Counter(eval(dict_word))"
   ]
  },
  {
   "cell_type": "code",
   "execution_count": 12,
   "metadata": {
    "ExecuteTime": {
     "end_time": "2021-07-05T09:57:02.354450Z",
     "start_time": "2021-07-05T09:56:56.616940Z"
    }
   },
   "outputs": [],
   "source": [
    "vocab = vocab_counter.most_common(30000)\n",
    "vocab = [v[0] for v in vocab if v[0] in normal_vocab]"
   ]
  },
  {
   "cell_type": "code",
   "execution_count": 14,
   "metadata": {
    "ExecuteTime": {
     "end_time": "2021-07-05T09:57:18.613298Z",
     "start_time": "2021-07-05T09:57:18.608515Z"
    }
   },
   "outputs": [
    {
     "data": {
      "text/plain": [
       "5000"
      ]
     },
     "execution_count": 14,
     "metadata": {},
     "output_type": "execute_result"
    }
   ],
   "source": [
    "vocab = vocab[:5000]\n",
    "len(vocab)"
   ]
  },
  {
   "cell_type": "code",
   "execution_count": 15,
   "metadata": {
    "ExecuteTime": {
     "end_time": "2021-07-05T09:57:20.787031Z",
     "start_time": "2021-07-05T09:57:20.777222Z"
    }
   },
   "outputs": [],
   "source": [
    "vocab_idx = {}\n",
    "for i, v in enumerate(vocab):\n",
    "    vocab_idx[v] = i"
   ]
  },
  {
   "cell_type": "markdown",
   "metadata": {},
   "source": [
    "# Bag of word"
   ]
  },
  {
   "cell_type": "code",
   "execution_count": 16,
   "metadata": {
    "ExecuteTime": {
     "end_time": "2021-07-05T09:59:23.722703Z",
     "start_time": "2021-07-05T09:57:22.784752Z"
    }
   },
   "outputs": [
    {
     "name": "stderr",
     "output_type": "stream",
     "text": [
      "100%|██████████| 31626/31626 [02:00<00:00, 261.52it/s]\n"
     ]
    }
   ],
   "source": [
    "content = []\n",
    "for i in tqdm(range(len(df_company))):\n",
    "    row = [0]*len(vocab)\n",
    "    for w, f in eval(df_company['bow'][i]).items():\n",
    "        if w in vocab_idx:\n",
    "            idx = vocab_idx[w]\n",
    "            row[idx] = f\n",
    "    content.append(row)"
   ]
  },
  {
   "cell_type": "markdown",
   "metadata": {},
   "source": [
    "# TF-IDF"
   ]
  },
  {
   "cell_type": "code",
   "execution_count": 17,
   "metadata": {
    "ExecuteTime": {
     "end_time": "2021-07-05T10:00:12.641170Z",
     "start_time": "2021-07-05T09:59:23.725614Z"
    }
   },
   "outputs": [
    {
     "name": "stdout",
     "output_type": "stream",
     "text": [
      "(Document - vocab): (31626, 5000)\n"
     ]
    }
   ],
   "source": [
    "tfidf_vectorizer = TfidfTransformer(smooth_idf=True,use_idf=True)\n",
    "tfidf_content = tfidf_vectorizer.fit_transform(content).toarray()\n",
    "print('(Document - vocab): {}'.format(tfidf_content.shape))"
   ]
  },
  {
   "cell_type": "markdown",
   "metadata": {},
   "source": [
    "# SVD"
   ]
  },
  {
   "cell_type": "code",
   "execution_count": 18,
   "metadata": {
    "ExecuteTime": {
     "end_time": "2021-07-05T10:00:12.646517Z",
     "start_time": "2021-07-05T10:00:12.643673Z"
    }
   },
   "outputs": [],
   "source": [
    "from scipy import linalg"
   ]
  },
  {
   "cell_type": "code",
   "execution_count": 19,
   "metadata": {
    "ExecuteTime": {
     "end_time": "2021-07-05T10:01:18.892818Z",
     "start_time": "2021-07-05T10:00:12.648570Z"
    }
   },
   "outputs": [],
   "source": [
    "# U: document x topic\n",
    "# s: topic x topic\n",
    "# Vh: topic x vocab\n",
    "U, s, Vh = linalg.svd(tfidf_content, full_matrices=False)"
   ]
  },
  {
   "cell_type": "code",
   "execution_count": 20,
   "metadata": {
    "ExecuteTime": {
     "end_time": "2021-07-05T10:01:19.375114Z",
     "start_time": "2021-07-05T10:01:18.895867Z"
    }
   },
   "outputs": [
    {
     "name": "stdout",
     "output_type": "stream",
     "text": [
      "(31626, 5000)\n",
      "(5000, 5000)\n"
     ]
    }
   ],
   "source": [
    "U = np.array(U)\n",
    "s = np.array(s)\n",
    "Vh = np.array(Vh)\n",
    "print(U.shape)\n",
    "print(Vh.shape)"
   ]
  },
  {
   "cell_type": "code",
   "execution_count": 21,
   "metadata": {
    "ExecuteTime": {
     "end_time": "2021-07-05T10:01:19.566735Z",
     "start_time": "2021-07-05T10:01:19.377086Z"
    },
    "scrolled": true
   },
   "outputs": [
    {
     "data": {
      "text/plain": [
       "[<matplotlib.lines.Line2D at 0x7f82ea65b190>]"
      ]
     },
     "execution_count": 21,
     "metadata": {},
     "output_type": "execute_result"
    },
    {
     "data": {
      "image/png": "[encoded data removed]",
      "text/plain": [
       "<Figure size 432x288 with 1 Axes>"
      ]
     },
     "metadata": {
      "needs_background": "light"
     },
     "output_type": "display_data"
    }
   ],
   "source": [
    "plt.plot(s)"
   ]
  },
  {
   "cell_type": "code",
   "execution_count": 22,
   "metadata": {
    "ExecuteTime": {
     "end_time": "2021-07-05T10:01:19.722664Z",
     "start_time": "2021-07-05T10:01:19.569034Z"
    }
   },
   "outputs": [
    {
     "data": {
      "text/plain": [
       "[<matplotlib.lines.Line2D at 0x7f82eabd64d0>]"
      ]
     },
     "execution_count": 22,
     "metadata": {},
     "output_type": "execute_result"
    },
    {
     "data": {
      "image/png": "[encoded data removed]",
      "text/plain": [
       "<Figure size 432x288 with 1 Axes>"
      ]
     },
     "metadata": {
      "needs_background": "light"
     },
     "output_type": "display_data"
    }
   ],
   "source": [
    "plt.plot(s[:10])"
   ]
  },
  {
   "cell_type": "markdown",
   "metadata": {},
   "source": [
    "# LSA"
   ]
  },
  {
   "cell_type": "code",
   "execution_count": 112,
   "metadata": {
    "ExecuteTime": {
     "end_time": "2021-07-06T02:17:30.322544Z",
     "start_time": "2021-07-06T02:17:30.318793Z"
    }
   },
   "outputs": [],
   "source": [
    "import pickle"
   ]
  },
  {
   "cell_type": "code",
   "execution_count": 122,
   "metadata": {
    "ExecuteTime": {
     "end_time": "2021-07-06T02:34:16.746956Z",
     "start_time": "2021-07-06T02:34:16.739995Z"
    }
   },
   "outputs": [],
   "source": [
    "#with open('docment_topic_matrix.pkl', 'rb') as f:\n",
    "#    lsa_topic_matrix = pickle.load(f)"
   ]
  },
  {
   "cell_type": "code",
   "execution_count": 96,
   "metadata": {
    "ExecuteTime": {
     "end_time": "2021-07-05T13:57:21.682403Z",
     "start_time": "2021-07-05T13:57:21.676694Z"
    }
   },
   "outputs": [],
   "source": [
    "def get_topic(doc_top_matrix):\n",
    "    return doc_top_matrix.argmax(axis=1).tolist()\n",
    "\n",
    "def count_value_topic(topics):\n",
    "    count_pair = Counter(topics).items()\n",
    "    topic = [pair[0] for pair in count_pair]\n",
    "    freq = [pair[1] for pair in count_pair]\n",
    "    return (topic, freq)\n",
    "\n",
    "def get_top_k_word(id_topic, k):\n",
    "    V = Vh[:n_topic]\n",
    "    indices = V[id_topic].argsort()[::-1][:k]\n",
    "    return ' '.join([vocab[i] for i in indices])"
   ]
  },
  {
   "cell_type": "code",
   "execution_count": 23,
   "metadata": {
    "ExecuteTime": {
     "end_time": "2021-07-05T10:01:19.795837Z",
     "start_time": "2021-07-05T10:01:19.725859Z"
    }
   },
   "outputs": [],
   "source": [
    "from sklearn.decomposition import TruncatedSVD"
   ]
  },
  {
   "cell_type": "code",
   "execution_count": 111,
   "metadata": {
    "ExecuteTime": {
     "end_time": "2021-07-06T02:17:13.111829Z",
     "start_time": "2021-07-06T02:17:09.314664Z"
    }
   },
   "outputs": [],
   "source": [
    "n_topic = 20\n",
    "lsa_model = TruncatedSVD(n_components=n_topic)\n",
    "lsa_topic_matrix = lsa_model.fit_transform(tfidf_content) # (document x topic)"
   ]
  },
  {
   "cell_type": "code",
   "execution_count": 97,
   "metadata": {
    "ExecuteTime": {
     "end_time": "2021-07-05T13:57:22.849819Z",
     "start_time": "2021-07-05T13:57:22.844378Z"
    }
   },
   "outputs": [],
   "source": [
    "topics = get_topic(lsa_topic_matrix)\n",
    "topic , frequency = count_value_topic(topics)"
   ]
  },
  {
   "cell_type": "code",
   "execution_count": 98,
   "metadata": {
    "ExecuteTime": {
     "end_time": "2021-07-05T13:57:23.520030Z",
     "start_time": "2021-07-05T13:57:23.515676Z"
    }
   },
   "outputs": [
    {
     "data": {
      "text/plain": [
       "[0, 6, 3, 7, 1, 9, 8, 4, 5, 2]"
      ]
     },
     "execution_count": 98,
     "metadata": {},
     "output_type": "execute_result"
    }
   ],
   "source": [
    "topic"
   ]
  },
  {
   "cell_type": "code",
   "execution_count": 99,
   "metadata": {
    "ExecuteTime": {
     "end_time": "2021-07-05T13:57:24.361399Z",
     "start_time": "2021-07-05T13:57:24.357021Z"
    }
   },
   "outputs": [
    {
     "data": {
      "text/plain": [
       "[27339, 304, 443, 224, 2587, 42, 343, 267, 21, 56]"
      ]
     },
     "execution_count": 99,
     "metadata": {},
     "output_type": "execute_result"
    }
   ],
   "source": [
    "frequency"
   ]
  },
  {
   "cell_type": "code",
   "execution_count": 100,
   "metadata": {
    "ExecuteTime": {
     "end_time": "2021-07-05T13:57:25.393157Z",
     "start_time": "2021-07-05T13:57:25.214094Z"
    },
    "collapsed": true
   },
   "outputs": [
    {
     "data": {
      "image/png": "[encoded data removed]",
      "text/plain": [
       "<Figure size 1080x360 with 1 Axes>"
      ]
     },
     "metadata": {
      "needs_background": "light"
     },
     "output_type": "display_data"
    }
   ],
   "source": [
    "index = np.arange(len(topic))\n",
    "plt.figure(figsize=(15,5))\n",
    "plt.xticks(index, topic)\n",
    "plt.bar(topic, frequency)\n",
    "plt.show()"
   ]
  },
  {
   "cell_type": "code",
   "execution_count": 101,
   "metadata": {
    "ExecuteTime": {
     "end_time": "2021-07-05T13:57:31.657128Z",
     "start_time": "2021-07-05T13:57:31.644145Z"
    },
    "collapsed": true
   },
   "outputs": [
    {
     "name": "stdout",
     "output_type": "stream",
     "text": [
      "Topic: 0 - trẽn loom bẽ harmonica smash êtô epsilon phốc trớn totem beneath trệu cụp lesbian hóp phên fare versus flourish nác\n",
      "Topic: 1 - the to in a s be domain can no co may ward terms ho copyright i content an info t\n",
      "Topic: 2 - kế nhà công xây thất án dựng thi dự nội thiết tư the căn kiến trúc vụ trình dịch cư\n",
      "Topic: 3 - máy công thiết thất nhà kế thi tủ nội điện xây hệ dựng phòng bếp bị camera gỗ án liên\n",
      "Topic: 4 - thất phẩm nội sản hàng giỏ gỗ da kế ghế áo phòng bàn trang bếp ngủ kệ tủ sơn nhà\n",
      "Topic: 5 - máy thất thiết kế nội xe du bạn tủ hàng khách phòng bếp camera có lịch không ghế bàn đ\n",
      "Topic: 6 - dịch vụ thiết kế hàng công cáo doanh marketing nghiệp in seo bạn bảo camera quản tôi toán chúng xây\n",
      "Topic: 7 - máy học da và là có bệnh nước các phẩm thuốc của làm một trong được sinh không dược những\n",
      "Topic: 8 - camera án dự đèn hình đầu màn thông thiết điện bị bộ căn cáp đăng ghi giỏ ổ đất loa\n",
      "Topic: 9 - máy hàng án dự in căn đất nhà hộ giỏ tư đăng mua khu cư bất quận bán áo phố\n"
     ]
    }
   ],
   "source": [
    "for i in range(n_topic):\n",
    "    print('Topic: {} - {}'.format(i, get_top_k_word(i, 20)))"
   ]
  },
  {
   "cell_type": "markdown",
   "metadata": {},
   "source": [
    "# LDA"
   ]
  },
  {
   "cell_type": "code",
   "execution_count": 125,
   "metadata": {
    "ExecuteTime": {
     "end_time": "2021-07-06T02:45:12.539909Z",
     "start_time": "2021-07-06T02:45:12.535989Z"
    }
   },
   "outputs": [],
   "source": [
    "from sklearn.decomposition import LatentDirichletAllocation"
   ]
  },
  {
   "cell_type": "code",
   "execution_count": 129,
   "metadata": {
    "ExecuteTime": {
     "end_time": "2021-07-06T03:11:20.911121Z",
     "start_time": "2021-07-06T02:46:28.040378Z"
    }
   },
   "outputs": [],
   "source": [
    "lda = LatentDirichletAllocation(n_components= n_topic, max_iter=5, learning_method='online', learning_offset=50.,random_state=0).fit(content)"
   ]
  },
  {
   "cell_type": "code",
   "execution_count": 133,
   "metadata": {
    "ExecuteTime": {
     "end_time": "2021-07-06T03:17:59.287846Z",
     "start_time": "2021-07-06T03:13:41.651452Z"
    }
   },
   "outputs": [],
   "source": [
    "lda_W = lda.transform(content) # docment x topic by LDA\n",
    "lda_H = lda.components_ # topic x word"
   ]
  },
  {
   "cell_type": "code",
   "execution_count": 140,
   "metadata": {
    "ExecuteTime": {
     "end_time": "2021-07-06T03:22:25.734715Z",
     "start_time": "2021-07-06T03:22:25.728860Z"
    }
   },
   "outputs": [
    {
     "data": {
      "text/plain": [
       "array([[4.94509974e-04, 1.38194083e-06, 5.48455857e-01, ...,\n",
       "        1.38194083e-06, 1.46927055e-02, 1.01807324e-02],\n",
       "       [4.75321328e-07, 4.75321327e-07, 4.75321326e-07, ...,\n",
       "        4.75321327e-07, 4.75321326e-07, 4.75321321e-07],\n",
       "       [7.77580807e-07, 3.80127247e-03, 7.29240098e-01, ...,\n",
       "        7.77580809e-07, 6.01792827e-02, 1.99215587e-02],\n",
       "       ...,\n",
       "       [1.61864688e-05, 1.61864687e-05, 1.61864686e-05, ...,\n",
       "        1.38324336e-02, 3.00279858e-02, 4.16330230e-01],\n",
       "       [4.69708690e-03, 2.67425541e-03, 1.01424228e-03, ...,\n",
       "        4.43525607e-02, 5.91243241e-02, 3.09876847e-03],\n",
       "       [3.36179664e-06, 3.36179662e-06, 1.75852520e-01, ...,\n",
       "        3.36179663e-06, 3.10657813e-02, 1.52967242e-03]])"
      ]
     },
     "execution_count": 140,
     "metadata": {},
     "output_type": "execute_result"
    }
   ],
   "source": [
    "lda_W"
   ]
  },
  {
   "cell_type": "markdown",
   "metadata": {},
   "source": [
    "## Save matrix"
   ]
  },
  {
   "cell_type": "code",
   "execution_count": 141,
   "metadata": {
    "ExecuteTime": {
     "end_time": "2021-07-06T03:22:28.650768Z",
     "start_time": "2021-07-06T03:22:28.639104Z"
    }
   },
   "outputs": [],
   "source": [
    "with open('document_topic_matrix_lda.pkl', 'wb') as f:\n",
    "    pickle.dump(lda_W ,f)\n",
    "with open('topic_vocab_matrix_lda.pkl', 'wb') as f:\n",
    "    pickle.dump(lda_H,f)"
   ]
  },
  {
   "cell_type": "code",
   "execution_count": 142,
   "metadata": {
    "ExecuteTime": {
     "end_time": "2021-07-06T03:22:30.020154Z",
     "start_time": "2021-07-06T03:22:30.010334Z"
    }
   },
   "outputs": [],
   "source": [
    "with open('document_topic_matrix_lda.pkl', 'rb') as f:\n",
    "    w = pickle.load(f)"
   ]
  },
  {
   "cell_type": "code",
   "execution_count": 144,
   "metadata": {
    "ExecuteTime": {
     "end_time": "2021-07-06T03:23:01.726769Z",
     "start_time": "2021-07-06T03:23:01.722293Z"
    }
   },
   "outputs": [],
   "source": [
    "with open('topic_vocab_matrix_lda.pkl', 'rb') as f:\n",
    "    h = pickle.load(f)"
   ]
  },
  {
   "cell_type": "code",
   "execution_count": 136,
   "metadata": {
    "ExecuteTime": {
     "end_time": "2021-07-06T03:19:02.939173Z",
     "start_time": "2021-07-06T03:19:02.932414Z"
    }
   },
   "outputs": [
    {
     "data": {
      "text/plain": [
       "(20, 5000)"
      ]
     },
     "execution_count": 136,
     "metadata": {},
     "output_type": "execute_result"
    }
   ],
   "source": [
    "lda_H.shape"
   ]
  },
  {
   "cell_type": "markdown",
   "metadata": {},
   "source": [
    "# Evaluate"
   ]
  },
  {
   "cell_type": "code",
   "execution_count": 61,
   "metadata": {
    "ExecuteTime": {
     "end_time": "2021-07-05T11:18:30.405715Z",
     "start_time": "2021-07-05T11:18:30.371521Z"
    }
   },
   "outputs": [],
   "source": [
    "index = np.arange(len(lsa_topic_matrix))\n",
    "df_com = pd.DataFrame({'com': [idx_company[i] for i in index] , 'topic': topics})"
   ]
  },
  {
   "cell_type": "code",
   "execution_count": 62,
   "metadata": {
    "ExecuteTime": {
     "end_time": "2021-07-05T11:18:31.954303Z",
     "start_time": "2021-07-05T11:18:31.859566Z"
    },
    "collapsed": true
   },
   "outputs": [
    {
     "data": {
      "text/html": [
       "<div>\n",
       "<style scoped>\n",
       "    .dataframe tbody tr th:only-of-type {\n",
       "        vertical-align: middle;\n",
       "    }\n",
       "\n",
       "    .dataframe tbody tr th {\n",
       "        vertical-align: top;\n",
       "    }\n",
       "\n",
       "    .dataframe thead th {\n",
       "        text-align: right;\n",
       "    }\n",
       "</style>\n",
       "<table border=\"1\" class=\"dataframe\">\n",
       "  <thead>\n",
       "    <tr style=\"text-align: right;\">\n",
       "      <th></th>\n",
       "      <th>com</th>\n",
       "      <th>topic</th>\n",
       "    </tr>\n",
       "  </thead>\n",
       "  <tbody>\n",
       "    <tr>\n",
       "      <th>233</th>\n",
       "      <td>0900609115</td>\n",
       "      <td>4</td>\n",
       "    </tr>\n",
       "    <tr>\n",
       "      <th>318</th>\n",
       "      <td>0303974996</td>\n",
       "      <td>4</td>\n",
       "    </tr>\n",
       "    <tr>\n",
       "      <th>817</th>\n",
       "      <td>0314639929</td>\n",
       "      <td>4</td>\n",
       "    </tr>\n",
       "    <tr>\n",
       "      <th>843</th>\n",
       "      <td>0315515531</td>\n",
       "      <td>4</td>\n",
       "    </tr>\n",
       "    <tr>\n",
       "      <th>1336</th>\n",
       "      <td>0312253408</td>\n",
       "      <td>4</td>\n",
       "    </tr>\n",
       "    <tr>\n",
       "      <th>1386</th>\n",
       "      <td>0304950074</td>\n",
       "      <td>4</td>\n",
       "    </tr>\n",
       "    <tr>\n",
       "      <th>1488</th>\n",
       "      <td>0311020961</td>\n",
       "      <td>4</td>\n",
       "    </tr>\n",
       "    <tr>\n",
       "      <th>1513</th>\n",
       "      <td>0311779124</td>\n",
       "      <td>4</td>\n",
       "    </tr>\n",
       "    <tr>\n",
       "      <th>1579</th>\n",
       "      <td>0315197688</td>\n",
       "      <td>4</td>\n",
       "    </tr>\n",
       "    <tr>\n",
       "      <th>1680</th>\n",
       "      <td>0315937004</td>\n",
       "      <td>4</td>\n",
       "    </tr>\n",
       "    <tr>\n",
       "      <th>2135</th>\n",
       "      <td>0313090019</td>\n",
       "      <td>4</td>\n",
       "    </tr>\n",
       "    <tr>\n",
       "      <th>2155</th>\n",
       "      <td>0600793417</td>\n",
       "      <td>4</td>\n",
       "    </tr>\n",
       "    <tr>\n",
       "      <th>2394</th>\n",
       "      <td>0201706814</td>\n",
       "      <td>4</td>\n",
       "    </tr>\n",
       "    <tr>\n",
       "      <th>2559</th>\n",
       "      <td>0109085139</td>\n",
       "      <td>4</td>\n",
       "    </tr>\n",
       "    <tr>\n",
       "      <th>2586</th>\n",
       "      <td>0312891658</td>\n",
       "      <td>4</td>\n",
       "    </tr>\n",
       "    <tr>\n",
       "      <th>2710</th>\n",
       "      <td>0107758565</td>\n",
       "      <td>4</td>\n",
       "    </tr>\n",
       "    <tr>\n",
       "      <th>2867</th>\n",
       "      <td>0314558268</td>\n",
       "      <td>4</td>\n",
       "    </tr>\n",
       "    <tr>\n",
       "      <th>3093</th>\n",
       "      <td>0107513766</td>\n",
       "      <td>4</td>\n",
       "    </tr>\n",
       "    <tr>\n",
       "      <th>3196</th>\n",
       "      <td>0315223497</td>\n",
       "      <td>4</td>\n",
       "    </tr>\n",
       "    <tr>\n",
       "      <th>3427</th>\n",
       "      <td>4300317823</td>\n",
       "      <td>4</td>\n",
       "    </tr>\n",
       "    <tr>\n",
       "      <th>3556</th>\n",
       "      <td>0108605096</td>\n",
       "      <td>4</td>\n",
       "    </tr>\n",
       "    <tr>\n",
       "      <th>3772</th>\n",
       "      <td>0312027078</td>\n",
       "      <td>4</td>\n",
       "    </tr>\n",
       "    <tr>\n",
       "      <th>3830</th>\n",
       "      <td>0108838171</td>\n",
       "      <td>4</td>\n",
       "    </tr>\n",
       "    <tr>\n",
       "      <th>3880</th>\n",
       "      <td>0305669469</td>\n",
       "      <td>4</td>\n",
       "    </tr>\n",
       "    <tr>\n",
       "      <th>3911</th>\n",
       "      <td>0315891021</td>\n",
       "      <td>4</td>\n",
       "    </tr>\n",
       "    <tr>\n",
       "      <th>3981</th>\n",
       "      <td>0315972873</td>\n",
       "      <td>4</td>\n",
       "    </tr>\n",
       "    <tr>\n",
       "      <th>4154</th>\n",
       "      <td>1101944510</td>\n",
       "      <td>4</td>\n",
       "    </tr>\n",
       "    <tr>\n",
       "      <th>4212</th>\n",
       "      <td>0316266969</td>\n",
       "      <td>4</td>\n",
       "    </tr>\n",
       "    <tr>\n",
       "      <th>4454</th>\n",
       "      <td>0109335999</td>\n",
       "      <td>4</td>\n",
       "    </tr>\n",
       "    <tr>\n",
       "      <th>4480</th>\n",
       "      <td>0316491925</td>\n",
       "      <td>4</td>\n",
       "    </tr>\n",
       "    <tr>\n",
       "      <th>4486</th>\n",
       "      <td>0316506466</td>\n",
       "      <td>4</td>\n",
       "    </tr>\n",
       "    <tr>\n",
       "      <th>4705</th>\n",
       "      <td>2301170471</td>\n",
       "      <td>4</td>\n",
       "    </tr>\n",
       "    <tr>\n",
       "      <th>4794</th>\n",
       "      <td>0313011810</td>\n",
       "      <td>4</td>\n",
       "    </tr>\n",
       "    <tr>\n",
       "      <th>5002</th>\n",
       "      <td>0313407756</td>\n",
       "      <td>4</td>\n",
       "    </tr>\n",
       "    <tr>\n",
       "      <th>5044</th>\n",
       "      <td>0107373068</td>\n",
       "      <td>4</td>\n",
       "    </tr>\n",
       "    <tr>\n",
       "      <th>5143</th>\n",
       "      <td>0314234055</td>\n",
       "      <td>4</td>\n",
       "    </tr>\n",
       "    <tr>\n",
       "      <th>5170</th>\n",
       "      <td>4001063874</td>\n",
       "      <td>4</td>\n",
       "    </tr>\n",
       "    <tr>\n",
       "      <th>5188</th>\n",
       "      <td>1201550421</td>\n",
       "      <td>4</td>\n",
       "    </tr>\n",
       "    <tr>\n",
       "      <th>5278</th>\n",
       "      <td>0310993943</td>\n",
       "      <td>4</td>\n",
       "    </tr>\n",
       "    <tr>\n",
       "      <th>5295</th>\n",
       "      <td>0108016407</td>\n",
       "      <td>4</td>\n",
       "    </tr>\n",
       "    <tr>\n",
       "      <th>5305</th>\n",
       "      <td>0314281626</td>\n",
       "      <td>4</td>\n",
       "    </tr>\n",
       "    <tr>\n",
       "      <th>5396</th>\n",
       "      <td>0107978539</td>\n",
       "      <td>4</td>\n",
       "    </tr>\n",
       "    <tr>\n",
       "      <th>5563</th>\n",
       "      <td>0313023894</td>\n",
       "      <td>4</td>\n",
       "    </tr>\n",
       "    <tr>\n",
       "      <th>5704</th>\n",
       "      <td>0316116258</td>\n",
       "      <td>4</td>\n",
       "    </tr>\n",
       "    <tr>\n",
       "      <th>5965</th>\n",
       "      <td>2700898199</td>\n",
       "      <td>4</td>\n",
       "    </tr>\n",
       "    <tr>\n",
       "      <th>6101</th>\n",
       "      <td>0308736963</td>\n",
       "      <td>4</td>\n",
       "    </tr>\n",
       "    <tr>\n",
       "      <th>6110</th>\n",
       "      <td>0101438181</td>\n",
       "      <td>4</td>\n",
       "    </tr>\n",
       "    <tr>\n",
       "      <th>6181</th>\n",
       "      <td>0106377736</td>\n",
       "      <td>4</td>\n",
       "    </tr>\n",
       "    <tr>\n",
       "      <th>6586</th>\n",
       "      <td>0107075826</td>\n",
       "      <td>4</td>\n",
       "    </tr>\n",
       "    <tr>\n",
       "      <th>6681</th>\n",
       "      <td>0316150033</td>\n",
       "      <td>4</td>\n",
       "    </tr>\n",
       "    <tr>\n",
       "      <th>6755</th>\n",
       "      <td>0314006612</td>\n",
       "      <td>4</td>\n",
       "    </tr>\n",
       "    <tr>\n",
       "      <th>7019</th>\n",
       "      <td>0313603863</td>\n",
       "      <td>4</td>\n",
       "    </tr>\n",
       "    <tr>\n",
       "      <th>7061</th>\n",
       "      <td>0316038867</td>\n",
       "      <td>4</td>\n",
       "    </tr>\n",
       "    <tr>\n",
       "      <th>7133</th>\n",
       "      <td>0315227117</td>\n",
       "      <td>4</td>\n",
       "    </tr>\n",
       "    <tr>\n",
       "      <th>7270</th>\n",
       "      <td>0315679882</td>\n",
       "      <td>4</td>\n",
       "    </tr>\n",
       "    <tr>\n",
       "      <th>7370</th>\n",
       "      <td>0314626912</td>\n",
       "      <td>4</td>\n",
       "    </tr>\n",
       "    <tr>\n",
       "      <th>7376</th>\n",
       "      <td>0108839979</td>\n",
       "      <td>4</td>\n",
       "    </tr>\n",
       "    <tr>\n",
       "      <th>7718</th>\n",
       "      <td>0312216188</td>\n",
       "      <td>4</td>\n",
       "    </tr>\n",
       "    <tr>\n",
       "      <th>8205</th>\n",
       "      <td>0316782547</td>\n",
       "      <td>4</td>\n",
       "    </tr>\n",
       "    <tr>\n",
       "      <th>8339</th>\n",
       "      <td>0316750418</td>\n",
       "      <td>4</td>\n",
       "    </tr>\n",
       "    <tr>\n",
       "      <th>8346</th>\n",
       "      <td>0109547143</td>\n",
       "      <td>4</td>\n",
       "    </tr>\n",
       "    <tr>\n",
       "      <th>8434</th>\n",
       "      <td>0109536279</td>\n",
       "      <td>4</td>\n",
       "    </tr>\n",
       "    <tr>\n",
       "      <th>8534</th>\n",
       "      <td>0316700583</td>\n",
       "      <td>4</td>\n",
       "    </tr>\n",
       "    <tr>\n",
       "      <th>8562</th>\n",
       "      <td>4201920981</td>\n",
       "      <td>4</td>\n",
       "    </tr>\n",
       "    <tr>\n",
       "      <th>8613</th>\n",
       "      <td>0316678747</td>\n",
       "      <td>4</td>\n",
       "    </tr>\n",
       "    <tr>\n",
       "      <th>8615</th>\n",
       "      <td>0109500561</td>\n",
       "      <td>4</td>\n",
       "    </tr>\n",
       "    <tr>\n",
       "      <th>8661</th>\n",
       "      <td>1001220218</td>\n",
       "      <td>4</td>\n",
       "    </tr>\n",
       "    <tr>\n",
       "      <th>8696</th>\n",
       "      <td>0316660274</td>\n",
       "      <td>4</td>\n",
       "    </tr>\n",
       "    <tr>\n",
       "      <th>8714</th>\n",
       "      <td>0316647837</td>\n",
       "      <td>4</td>\n",
       "    </tr>\n",
       "    <tr>\n",
       "      <th>9056</th>\n",
       "      <td>0109388849</td>\n",
       "      <td>4</td>\n",
       "    </tr>\n",
       "    <tr>\n",
       "      <th>9093</th>\n",
       "      <td>0109386866</td>\n",
       "      <td>4</td>\n",
       "    </tr>\n",
       "    <tr>\n",
       "      <th>9121</th>\n",
       "      <td>0316548699</td>\n",
       "      <td>4</td>\n",
       "    </tr>\n",
       "    <tr>\n",
       "      <th>9199</th>\n",
       "      <td>0109368585</td>\n",
       "      <td>4</td>\n",
       "    </tr>\n",
       "    <tr>\n",
       "      <th>9300</th>\n",
       "      <td>2902067006</td>\n",
       "      <td>4</td>\n",
       "    </tr>\n",
       "    <tr>\n",
       "      <th>9406</th>\n",
       "      <td>0109330976</td>\n",
       "      <td>4</td>\n",
       "    </tr>\n",
       "    <tr>\n",
       "      <th>9516</th>\n",
       "      <td>0109315946</td>\n",
       "      <td>4</td>\n",
       "    </tr>\n",
       "    <tr>\n",
       "      <th>9562</th>\n",
       "      <td>0109303690</td>\n",
       "      <td>4</td>\n",
       "    </tr>\n",
       "    <tr>\n",
       "      <th>9658</th>\n",
       "      <td>2200476953</td>\n",
       "      <td>4</td>\n",
       "    </tr>\n",
       "    <tr>\n",
       "      <th>9735</th>\n",
       "      <td>3200711038</td>\n",
       "      <td>4</td>\n",
       "    </tr>\n",
       "    <tr>\n",
       "      <th>9779</th>\n",
       "      <td>0106919315</td>\n",
       "      <td>4</td>\n",
       "    </tr>\n",
       "    <tr>\n",
       "      <th>9869</th>\n",
       "      <td>3603736980</td>\n",
       "      <td>4</td>\n",
       "    </tr>\n",
       "    <tr>\n",
       "      <th>10009</th>\n",
       "      <td>0109247823</td>\n",
       "      <td>4</td>\n",
       "    </tr>\n",
       "    <tr>\n",
       "      <th>10040</th>\n",
       "      <td>0402048763</td>\n",
       "      <td>4</td>\n",
       "    </tr>\n",
       "    <tr>\n",
       "      <th>10275</th>\n",
       "      <td>3702877573</td>\n",
       "      <td>4</td>\n",
       "    </tr>\n",
       "    <tr>\n",
       "      <th>10377</th>\n",
       "      <td>0109181266</td>\n",
       "      <td>4</td>\n",
       "    </tr>\n",
       "    <tr>\n",
       "      <th>10574</th>\n",
       "      <td>0316208678</td>\n",
       "      <td>4</td>\n",
       "    </tr>\n",
       "    <tr>\n",
       "      <th>10599</th>\n",
       "      <td>0316201224</td>\n",
       "      <td>4</td>\n",
       "    </tr>\n",
       "    <tr>\n",
       "      <th>10633</th>\n",
       "      <td>3603713246</td>\n",
       "      <td>4</td>\n",
       "    </tr>\n",
       "    <tr>\n",
       "      <th>11088</th>\n",
       "      <td>0316076809</td>\n",
       "      <td>4</td>\n",
       "    </tr>\n",
       "    <tr>\n",
       "      <th>11744</th>\n",
       "      <td>5702011523</td>\n",
       "      <td>4</td>\n",
       "    </tr>\n",
       "    <tr>\n",
       "      <th>11833</th>\n",
       "      <td>1301080441</td>\n",
       "      <td>4</td>\n",
       "    </tr>\n",
       "    <tr>\n",
       "      <th>11869</th>\n",
       "      <td>0315847086</td>\n",
       "      <td>4</td>\n",
       "    </tr>\n",
       "    <tr>\n",
       "      <th>11932</th>\n",
       "      <td>5702005801</td>\n",
       "      <td>4</td>\n",
       "    </tr>\n",
       "    <tr>\n",
       "      <th>11976</th>\n",
       "      <td>0315832442</td>\n",
       "      <td>4</td>\n",
       "    </tr>\n",
       "    <tr>\n",
       "      <th>12039</th>\n",
       "      <td>0315811604</td>\n",
       "      <td>4</td>\n",
       "    </tr>\n",
       "    <tr>\n",
       "      <th>12167</th>\n",
       "      <td>0315769261</td>\n",
       "      <td>4</td>\n",
       "    </tr>\n",
       "    <tr>\n",
       "      <th>12254</th>\n",
       "      <td>2400866566</td>\n",
       "      <td>4</td>\n",
       "    </tr>\n",
       "    <tr>\n",
       "      <th>12402</th>\n",
       "      <td>3401188347</td>\n",
       "      <td>4</td>\n",
       "    </tr>\n",
       "    <tr>\n",
       "      <th>12417</th>\n",
       "      <td>0108761070</td>\n",
       "      <td>4</td>\n",
       "    </tr>\n",
       "    <tr>\n",
       "      <th>12524</th>\n",
       "      <td>0315661885</td>\n",
       "      <td>4</td>\n",
       "    </tr>\n",
       "    <tr>\n",
       "      <th>12574</th>\n",
       "      <td>0315653154</td>\n",
       "      <td>4</td>\n",
       "    </tr>\n",
       "    <tr>\n",
       "      <th>12666</th>\n",
       "      <td>4001177790</td>\n",
       "      <td>4</td>\n",
       "    </tr>\n",
       "    <tr>\n",
       "      <th>12778</th>\n",
       "      <td>0108668480</td>\n",
       "      <td>4</td>\n",
       "    </tr>\n",
       "    <tr>\n",
       "      <th>12787</th>\n",
       "      <td>0108676393</td>\n",
       "      <td>4</td>\n",
       "    </tr>\n",
       "    <tr>\n",
       "      <th>12910</th>\n",
       "      <td>0108649946</td>\n",
       "      <td>4</td>\n",
       "    </tr>\n",
       "    <tr>\n",
       "      <th>12916</th>\n",
       "      <td>0315562771</td>\n",
       "      <td>4</td>\n",
       "    </tr>\n",
       "    <tr>\n",
       "      <th>12937</th>\n",
       "      <td>0901052797</td>\n",
       "      <td>4</td>\n",
       "    </tr>\n",
       "    <tr>\n",
       "      <th>13022</th>\n",
       "      <td>0315541820</td>\n",
       "      <td>4</td>\n",
       "    </tr>\n",
       "    <tr>\n",
       "      <th>13167</th>\n",
       "      <td>0315472214</td>\n",
       "      <td>4</td>\n",
       "    </tr>\n",
       "    <tr>\n",
       "      <th>13352</th>\n",
       "      <td>3502381837</td>\n",
       "      <td>4</td>\n",
       "    </tr>\n",
       "    <tr>\n",
       "      <th>13397</th>\n",
       "      <td>0315426722</td>\n",
       "      <td>4</td>\n",
       "    </tr>\n",
       "    <tr>\n",
       "      <th>13470</th>\n",
       "      <td>0315392255</td>\n",
       "      <td>4</td>\n",
       "    </tr>\n",
       "    <tr>\n",
       "      <th>13547</th>\n",
       "      <td>0315373358</td>\n",
       "      <td>4</td>\n",
       "    </tr>\n",
       "    <tr>\n",
       "      <th>13591</th>\n",
       "      <td>0315347534</td>\n",
       "      <td>4</td>\n",
       "    </tr>\n",
       "    <tr>\n",
       "      <th>13662</th>\n",
       "      <td>0315347421</td>\n",
       "      <td>4</td>\n",
       "    </tr>\n",
       "    <tr>\n",
       "      <th>13753</th>\n",
       "      <td>3702707557</td>\n",
       "      <td>4</td>\n",
       "    </tr>\n",
       "    <tr>\n",
       "      <th>13841</th>\n",
       "      <td>0401925595</td>\n",
       "      <td>4</td>\n",
       "    </tr>\n",
       "    <tr>\n",
       "      <th>14059</th>\n",
       "      <td>0314880355</td>\n",
       "      <td>4</td>\n",
       "    </tr>\n",
       "    <tr>\n",
       "      <th>14076</th>\n",
       "      <td>0315252025</td>\n",
       "      <td>4</td>\n",
       "    </tr>\n",
       "    <tr>\n",
       "      <th>14081</th>\n",
       "      <td>0315249985</td>\n",
       "      <td>4</td>\n",
       "    </tr>\n",
       "    <tr>\n",
       "      <th>14152</th>\n",
       "      <td>0314863060</td>\n",
       "      <td>4</td>\n",
       "    </tr>\n",
       "    <tr>\n",
       "      <th>14221</th>\n",
       "      <td>0314844861</td>\n",
       "      <td>4</td>\n",
       "    </tr>\n",
       "    <tr>\n",
       "      <th>14343</th>\n",
       "      <td>0108064947</td>\n",
       "      <td>4</td>\n",
       "    </tr>\n",
       "    <tr>\n",
       "      <th>14620</th>\n",
       "      <td>2500606586</td>\n",
       "      <td>4</td>\n",
       "    </tr>\n",
       "    <tr>\n",
       "      <th>14710</th>\n",
       "      <td>0315111391</td>\n",
       "      <td>4</td>\n",
       "    </tr>\n",
       "    <tr>\n",
       "      <th>14752</th>\n",
       "      <td>6001615631</td>\n",
       "      <td>4</td>\n",
       "    </tr>\n",
       "    <tr>\n",
       "      <th>14758</th>\n",
       "      <td>0315102340</td>\n",
       "      <td>4</td>\n",
       "    </tr>\n",
       "    <tr>\n",
       "      <th>14759</th>\n",
       "      <td>0108317676</td>\n",
       "      <td>4</td>\n",
       "    </tr>\n",
       "    <tr>\n",
       "      <th>14775</th>\n",
       "      <td>0315092808</td>\n",
       "      <td>4</td>\n",
       "    </tr>\n",
       "    <tr>\n",
       "      <th>14815</th>\n",
       "      <td>0315069559</td>\n",
       "      <td>4</td>\n",
       "    </tr>\n",
       "    <tr>\n",
       "      <th>15033</th>\n",
       "      <td>0314998942</td>\n",
       "      <td>4</td>\n",
       "    </tr>\n",
       "    <tr>\n",
       "      <th>15086</th>\n",
       "      <td>0314971877</td>\n",
       "      <td>4</td>\n",
       "    </tr>\n",
       "    <tr>\n",
       "      <th>15213</th>\n",
       "      <td>0108190797</td>\n",
       "      <td>4</td>\n",
       "    </tr>\n",
       "    <tr>\n",
       "      <th>15339</th>\n",
       "      <td>0401883401</td>\n",
       "      <td>4</td>\n",
       "    </tr>\n",
       "    <tr>\n",
       "      <th>15384</th>\n",
       "      <td>4001125908</td>\n",
       "      <td>4</td>\n",
       "    </tr>\n",
       "    <tr>\n",
       "      <th>15397</th>\n",
       "      <td>0314705360</td>\n",
       "      <td>4</td>\n",
       "    </tr>\n",
       "    <tr>\n",
       "      <th>15540</th>\n",
       "      <td>0314662621</td>\n",
       "      <td>4</td>\n",
       "    </tr>\n",
       "    <tr>\n",
       "      <th>15595</th>\n",
       "      <td>0314633684</td>\n",
       "      <td>4</td>\n",
       "    </tr>\n",
       "    <tr>\n",
       "      <th>15771</th>\n",
       "      <td>4601345711</td>\n",
       "      <td>4</td>\n",
       "    </tr>\n",
       "    <tr>\n",
       "      <th>15797</th>\n",
       "      <td>0314561415</td>\n",
       "      <td>4</td>\n",
       "    </tr>\n",
       "    <tr>\n",
       "      <th>16058</th>\n",
       "      <td>0314434294</td>\n",
       "      <td>4</td>\n",
       "    </tr>\n",
       "    <tr>\n",
       "      <th>16080</th>\n",
       "      <td>0107876470</td>\n",
       "      <td>4</td>\n",
       "    </tr>\n",
       "    <tr>\n",
       "      <th>16168</th>\n",
       "      <td>0314400432</td>\n",
       "      <td>4</td>\n",
       "    </tr>\n",
       "    <tr>\n",
       "      <th>16247</th>\n",
       "      <td>0107821390</td>\n",
       "      <td>4</td>\n",
       "    </tr>\n",
       "    <tr>\n",
       "      <th>16271</th>\n",
       "      <td>0107809851</td>\n",
       "      <td>4</td>\n",
       "    </tr>\n",
       "    <tr>\n",
       "      <th>16458</th>\n",
       "      <td>0314271681</td>\n",
       "      <td>4</td>\n",
       "    </tr>\n",
       "    <tr>\n",
       "      <th>16599</th>\n",
       "      <td>0314234947</td>\n",
       "      <td>4</td>\n",
       "    </tr>\n",
       "    <tr>\n",
       "      <th>16635</th>\n",
       "      <td>3702532674</td>\n",
       "      <td>4</td>\n",
       "    </tr>\n",
       "    <tr>\n",
       "      <th>16754</th>\n",
       "      <td>0314157481</td>\n",
       "      <td>4</td>\n",
       "    </tr>\n",
       "    <tr>\n",
       "      <th>16796</th>\n",
       "      <td>0314145912</td>\n",
       "      <td>4</td>\n",
       "    </tr>\n",
       "    <tr>\n",
       "      <th>16804</th>\n",
       "      <td>0107653523</td>\n",
       "      <td>4</td>\n",
       "    </tr>\n",
       "    <tr>\n",
       "      <th>16922</th>\n",
       "      <td>0107617194</td>\n",
       "      <td>4</td>\n",
       "    </tr>\n",
       "    <tr>\n",
       "      <th>17014</th>\n",
       "      <td>0107581420</td>\n",
       "      <td>4</td>\n",
       "    </tr>\n",
       "    <tr>\n",
       "      <th>17052</th>\n",
       "      <td>0314054278</td>\n",
       "      <td>4</td>\n",
       "    </tr>\n",
       "    <tr>\n",
       "      <th>17070</th>\n",
       "      <td>0314008472</td>\n",
       "      <td>4</td>\n",
       "    </tr>\n",
       "    <tr>\n",
       "      <th>17099</th>\n",
       "      <td>0314005880</td>\n",
       "      <td>4</td>\n",
       "    </tr>\n",
       "    <tr>\n",
       "      <th>17211</th>\n",
       "      <td>0313941245</td>\n",
       "      <td>4</td>\n",
       "    </tr>\n",
       "    <tr>\n",
       "      <th>17294</th>\n",
       "      <td>0313898448</td>\n",
       "      <td>4</td>\n",
       "    </tr>\n",
       "    <tr>\n",
       "      <th>17370</th>\n",
       "      <td>0313864826</td>\n",
       "      <td>4</td>\n",
       "    </tr>\n",
       "    <tr>\n",
       "      <th>17436</th>\n",
       "      <td>0107462769</td>\n",
       "      <td>4</td>\n",
       "    </tr>\n",
       "    <tr>\n",
       "      <th>17511</th>\n",
       "      <td>0313799359</td>\n",
       "      <td>4</td>\n",
       "    </tr>\n",
       "    <tr>\n",
       "      <th>17539</th>\n",
       "      <td>0313798330</td>\n",
       "      <td>4</td>\n",
       "    </tr>\n",
       "    <tr>\n",
       "      <th>17558</th>\n",
       "      <td>0313772854</td>\n",
       "      <td>4</td>\n",
       "    </tr>\n",
       "    <tr>\n",
       "      <th>17567</th>\n",
       "      <td>0107410030</td>\n",
       "      <td>4</td>\n",
       "    </tr>\n",
       "    <tr>\n",
       "      <th>17568</th>\n",
       "      <td>0313776270</td>\n",
       "      <td>4</td>\n",
       "    </tr>\n",
       "    <tr>\n",
       "      <th>17889</th>\n",
       "      <td>4201672792</td>\n",
       "      <td>4</td>\n",
       "    </tr>\n",
       "    <tr>\n",
       "      <th>17923</th>\n",
       "      <td>0201667675</td>\n",
       "      <td>4</td>\n",
       "    </tr>\n",
       "    <tr>\n",
       "      <th>17938</th>\n",
       "      <td>0201663127</td>\n",
       "      <td>4</td>\n",
       "    </tr>\n",
       "    <tr>\n",
       "      <th>17993</th>\n",
       "      <td>0313512165</td>\n",
       "      <td>4</td>\n",
       "    </tr>\n",
       "    <tr>\n",
       "      <th>18052</th>\n",
       "      <td>0801146628</td>\n",
       "      <td>4</td>\n",
       "    </tr>\n",
       "    <tr>\n",
       "      <th>18102</th>\n",
       "      <td>0313444331</td>\n",
       "      <td>4</td>\n",
       "    </tr>\n",
       "    <tr>\n",
       "      <th>18158</th>\n",
       "      <td>0313425339</td>\n",
       "      <td>4</td>\n",
       "    </tr>\n",
       "    <tr>\n",
       "      <th>18248</th>\n",
       "      <td>0106919548</td>\n",
       "      <td>4</td>\n",
       "    </tr>\n",
       "    <tr>\n",
       "      <th>18286</th>\n",
       "      <td>0313350281</td>\n",
       "      <td>4</td>\n",
       "    </tr>\n",
       "    <tr>\n",
       "      <th>18343</th>\n",
       "      <td>0313304704</td>\n",
       "      <td>4</td>\n",
       "    </tr>\n",
       "    <tr>\n",
       "      <th>18354</th>\n",
       "      <td>0313300259</td>\n",
       "      <td>4</td>\n",
       "    </tr>\n",
       "    <tr>\n",
       "      <th>18413</th>\n",
       "      <td>0313258159</td>\n",
       "      <td>4</td>\n",
       "    </tr>\n",
       "    <tr>\n",
       "      <th>18636</th>\n",
       "      <td>0106793662</td>\n",
       "      <td>4</td>\n",
       "    </tr>\n",
       "    <tr>\n",
       "      <th>18662</th>\n",
       "      <td>1200730277</td>\n",
       "      <td>4</td>\n",
       "    </tr>\n",
       "    <tr>\n",
       "      <th>18810</th>\n",
       "      <td>0106767133</td>\n",
       "      <td>4</td>\n",
       "    </tr>\n",
       "    <tr>\n",
       "      <th>18818</th>\n",
       "      <td>0313123401</td>\n",
       "      <td>4</td>\n",
       "    </tr>\n",
       "    <tr>\n",
       "      <th>18858</th>\n",
       "      <td>0106748317</td>\n",
       "      <td>4</td>\n",
       "    </tr>\n",
       "    <tr>\n",
       "      <th>18943</th>\n",
       "      <td>0312740754</td>\n",
       "      <td>4</td>\n",
       "    </tr>\n",
       "    <tr>\n",
       "      <th>18971</th>\n",
       "      <td>6100254915</td>\n",
       "      <td>4</td>\n",
       "    </tr>\n",
       "    <tr>\n",
       "      <th>19008</th>\n",
       "      <td>0105155427</td>\n",
       "      <td>4</td>\n",
       "    </tr>\n",
       "    <tr>\n",
       "      <th>19022</th>\n",
       "      <td>0104165260</td>\n",
       "      <td>4</td>\n",
       "    </tr>\n",
       "    <tr>\n",
       "      <th>19053</th>\n",
       "      <td>0104246689</td>\n",
       "      <td>4</td>\n",
       "    </tr>\n",
       "    <tr>\n",
       "      <th>19102</th>\n",
       "      <td>1800700059</td>\n",
       "      <td>4</td>\n",
       "    </tr>\n",
       "    <tr>\n",
       "      <th>19140</th>\n",
       "      <td>3602503775</td>\n",
       "      <td>4</td>\n",
       "    </tr>\n",
       "    <tr>\n",
       "      <th>19161</th>\n",
       "      <td>0104739370</td>\n",
       "      <td>4</td>\n",
       "    </tr>\n",
       "    <tr>\n",
       "      <th>19280</th>\n",
       "      <td>0310710401</td>\n",
       "      <td>4</td>\n",
       "    </tr>\n",
       "    <tr>\n",
       "      <th>19449</th>\n",
       "      <td>0105927673</td>\n",
       "      <td>4</td>\n",
       "    </tr>\n",
       "    <tr>\n",
       "      <th>19480</th>\n",
       "      <td>3700719003</td>\n",
       "      <td>4</td>\n",
       "    </tr>\n",
       "    <tr>\n",
       "      <th>19653</th>\n",
       "      <td>3702122371</td>\n",
       "      <td>4</td>\n",
       "    </tr>\n",
       "    <tr>\n",
       "      <th>19958</th>\n",
       "      <td>0106458801</td>\n",
       "      <td>4</td>\n",
       "    </tr>\n",
       "    <tr>\n",
       "      <th>20035</th>\n",
       "      <td>0313031870</td>\n",
       "      <td>4</td>\n",
       "    </tr>\n",
       "    <tr>\n",
       "      <th>20051</th>\n",
       "      <td>0106631830</td>\n",
       "      <td>4</td>\n",
       "    </tr>\n",
       "    <tr>\n",
       "      <th>20361</th>\n",
       "      <td>0105458654</td>\n",
       "      <td>4</td>\n",
       "    </tr>\n",
       "    <tr>\n",
       "      <th>20391</th>\n",
       "      <td>0105618989</td>\n",
       "      <td>4</td>\n",
       "    </tr>\n",
       "    <tr>\n",
       "      <th>20570</th>\n",
       "      <td>4000973052</td>\n",
       "      <td>4</td>\n",
       "    </tr>\n",
       "    <tr>\n",
       "      <th>20681</th>\n",
       "      <td>0312924399</td>\n",
       "      <td>4</td>\n",
       "    </tr>\n",
       "    <tr>\n",
       "      <th>20737</th>\n",
       "      <td>1200978101</td>\n",
       "      <td>4</td>\n",
       "    </tr>\n",
       "    <tr>\n",
       "      <th>20749</th>\n",
       "      <td>5400343314</td>\n",
       "      <td>4</td>\n",
       "    </tr>\n",
       "    <tr>\n",
       "      <th>20844</th>\n",
       "      <td>0306422129</td>\n",
       "      <td>4</td>\n",
       "    </tr>\n",
       "    <tr>\n",
       "      <th>20845</th>\n",
       "      <td>0305254030</td>\n",
       "      <td>4</td>\n",
       "    </tr>\n",
       "    <tr>\n",
       "      <th>20872</th>\n",
       "      <td>0312745720</td>\n",
       "      <td>4</td>\n",
       "    </tr>\n",
       "    <tr>\n",
       "      <th>20917</th>\n",
       "      <td>0312788749</td>\n",
       "      <td>4</td>\n",
       "    </tr>\n",
       "    <tr>\n",
       "      <th>20984</th>\n",
       "      <td>0312552743</td>\n",
       "      <td>4</td>\n",
       "    </tr>\n",
       "    <tr>\n",
       "      <th>21013</th>\n",
       "      <td>0312244918</td>\n",
       "      <td>4</td>\n",
       "    </tr>\n",
       "    <tr>\n",
       "      <th>21020</th>\n",
       "      <td>0312246841</td>\n",
       "      <td>4</td>\n",
       "    </tr>\n",
       "    <tr>\n",
       "      <th>21070</th>\n",
       "      <td>0312183140</td>\n",
       "      <td>4</td>\n",
       "    </tr>\n",
       "    <tr>\n",
       "      <th>21071</th>\n",
       "      <td>0312185885</td>\n",
       "      <td>4</td>\n",
       "    </tr>\n",
       "    <tr>\n",
       "      <th>21105</th>\n",
       "      <td>0312083636</td>\n",
       "      <td>4</td>\n",
       "    </tr>\n",
       "    <tr>\n",
       "      <th>21148</th>\n",
       "      <td>0311995580</td>\n",
       "      <td>4</td>\n",
       "    </tr>\n",
       "    <tr>\n",
       "      <th>21171</th>\n",
       "      <td>0311958363</td>\n",
       "      <td>4</td>\n",
       "    </tr>\n",
       "    <tr>\n",
       "      <th>21200</th>\n",
       "      <td>0311915810</td>\n",
       "      <td>4</td>\n",
       "    </tr>\n",
       "    <tr>\n",
       "      <th>21332</th>\n",
       "      <td>0311327745</td>\n",
       "      <td>4</td>\n",
       "    </tr>\n",
       "    <tr>\n",
       "      <th>21391</th>\n",
       "      <td>0311030215</td>\n",
       "      <td>4</td>\n",
       "    </tr>\n",
       "    <tr>\n",
       "      <th>21500</th>\n",
       "      <td>0310673809</td>\n",
       "      <td>4</td>\n",
       "    </tr>\n",
       "    <tr>\n",
       "      <th>21539</th>\n",
       "      <td>0310359039</td>\n",
       "      <td>4</td>\n",
       "    </tr>\n",
       "    <tr>\n",
       "      <th>21551</th>\n",
       "      <td>0310228702</td>\n",
       "      <td>4</td>\n",
       "    </tr>\n",
       "    <tr>\n",
       "      <th>21602</th>\n",
       "      <td>0309838365</td>\n",
       "      <td>4</td>\n",
       "    </tr>\n",
       "    <tr>\n",
       "      <th>21604</th>\n",
       "      <td>0309849247</td>\n",
       "      <td>4</td>\n",
       "    </tr>\n",
       "    <tr>\n",
       "      <th>21618</th>\n",
       "      <td>0309466678</td>\n",
       "      <td>4</td>\n",
       "    </tr>\n",
       "    <tr>\n",
       "      <th>21649</th>\n",
       "      <td>0309267344</td>\n",
       "      <td>4</td>\n",
       "    </tr>\n",
       "    <tr>\n",
       "      <th>21787</th>\n",
       "      <td>0305422574</td>\n",
       "      <td>4</td>\n",
       "    </tr>\n",
       "    <tr>\n",
       "      <th>21842</th>\n",
       "      <td>0304604892</td>\n",
       "      <td>4</td>\n",
       "    </tr>\n",
       "    <tr>\n",
       "      <th>21922</th>\n",
       "      <td>0303636820</td>\n",
       "      <td>4</td>\n",
       "    </tr>\n",
       "    <tr>\n",
       "      <th>23036</th>\n",
       "      <td>0108264336</td>\n",
       "      <td>4</td>\n",
       "    </tr>\n",
       "    <tr>\n",
       "      <th>23258</th>\n",
       "      <td>0310956959</td>\n",
       "      <td>4</td>\n",
       "    </tr>\n",
       "    <tr>\n",
       "      <th>23510</th>\n",
       "      <td>0104486320</td>\n",
       "      <td>4</td>\n",
       "    </tr>\n",
       "    <tr>\n",
       "      <th>23876</th>\n",
       "      <td>0109159711</td>\n",
       "      <td>4</td>\n",
       "    </tr>\n",
       "    <tr>\n",
       "      <th>24005</th>\n",
       "      <td>0313931688</td>\n",
       "      <td>4</td>\n",
       "    </tr>\n",
       "    <tr>\n",
       "      <th>24676</th>\n",
       "      <td>0315128821</td>\n",
       "      <td>4</td>\n",
       "    </tr>\n",
       "    <tr>\n",
       "      <th>24837</th>\n",
       "      <td>0316116032</td>\n",
       "      <td>4</td>\n",
       "    </tr>\n",
       "    <tr>\n",
       "      <th>24932</th>\n",
       "      <td>0108281973</td>\n",
       "      <td>4</td>\n",
       "    </tr>\n",
       "    <tr>\n",
       "      <th>25197</th>\n",
       "      <td>1100743434</td>\n",
       "      <td>4</td>\n",
       "    </tr>\n",
       "    <tr>\n",
       "      <th>25395</th>\n",
       "      <td>0108408683</td>\n",
       "      <td>4</td>\n",
       "    </tr>\n",
       "    <tr>\n",
       "      <th>25445</th>\n",
       "      <td>0107682651</td>\n",
       "      <td>4</td>\n",
       "    </tr>\n",
       "    <tr>\n",
       "      <th>25465</th>\n",
       "      <td>0106127373</td>\n",
       "      <td>4</td>\n",
       "    </tr>\n",
       "    <tr>\n",
       "      <th>25689</th>\n",
       "      <td>0101929895</td>\n",
       "      <td>4</td>\n",
       "    </tr>\n",
       "    <tr>\n",
       "      <th>25974</th>\n",
       "      <td>0314329518</td>\n",
       "      <td>4</td>\n",
       "    </tr>\n",
       "    <tr>\n",
       "      <th>26131</th>\n",
       "      <td>0108745625</td>\n",
       "      <td>4</td>\n",
       "    </tr>\n",
       "    <tr>\n",
       "      <th>26320</th>\n",
       "      <td>0314592156</td>\n",
       "      <td>4</td>\n",
       "    </tr>\n",
       "    <tr>\n",
       "      <th>26424</th>\n",
       "      <td>0309613019</td>\n",
       "      <td>4</td>\n",
       "    </tr>\n",
       "    <tr>\n",
       "      <th>26581</th>\n",
       "      <td>0302531889</td>\n",
       "      <td>4</td>\n",
       "    </tr>\n",
       "    <tr>\n",
       "      <th>26994</th>\n",
       "      <td>0103407936</td>\n",
       "      <td>4</td>\n",
       "    </tr>\n",
       "    <tr>\n",
       "      <th>27044</th>\n",
       "      <td>0101035947</td>\n",
       "      <td>4</td>\n",
       "    </tr>\n",
       "    <tr>\n",
       "      <th>27150</th>\n",
       "      <td>0312163296</td>\n",
       "      <td>4</td>\n",
       "    </tr>\n",
       "    <tr>\n",
       "      <th>27218</th>\n",
       "      <td>0313046838</td>\n",
       "      <td>4</td>\n",
       "    </tr>\n",
       "    <tr>\n",
       "      <th>27309</th>\n",
       "      <td>0201074682</td>\n",
       "      <td>4</td>\n",
       "    </tr>\n",
       "    <tr>\n",
       "      <th>27424</th>\n",
       "      <td>0107536770</td>\n",
       "      <td>4</td>\n",
       "    </tr>\n",
       "    <tr>\n",
       "      <th>27659</th>\n",
       "      <td>0108835773</td>\n",
       "      <td>4</td>\n",
       "    </tr>\n",
       "    <tr>\n",
       "      <th>27671</th>\n",
       "      <td>0108597712</td>\n",
       "      <td>4</td>\n",
       "    </tr>\n",
       "    <tr>\n",
       "      <th>27890</th>\n",
       "      <td>0312985874</td>\n",
       "      <td>4</td>\n",
       "    </tr>\n",
       "    <tr>\n",
       "      <th>28118</th>\n",
       "      <td>0106629567</td>\n",
       "      <td>4</td>\n",
       "    </tr>\n",
       "    <tr>\n",
       "      <th>28310</th>\n",
       "      <td>0314438764</td>\n",
       "      <td>4</td>\n",
       "    </tr>\n",
       "    <tr>\n",
       "      <th>28389</th>\n",
       "      <td>3702539775</td>\n",
       "      <td>4</td>\n",
       "    </tr>\n",
       "    <tr>\n",
       "      <th>28398</th>\n",
       "      <td>0305188275</td>\n",
       "      <td>4</td>\n",
       "    </tr>\n",
       "    <tr>\n",
       "      <th>28402</th>\n",
       "      <td>0314455576</td>\n",
       "      <td>4</td>\n",
       "    </tr>\n",
       "    <tr>\n",
       "      <th>29132</th>\n",
       "      <td>0107926749</td>\n",
       "      <td>4</td>\n",
       "    </tr>\n",
       "    <tr>\n",
       "      <th>29570</th>\n",
       "      <td>0101757237</td>\n",
       "      <td>4</td>\n",
       "    </tr>\n",
       "    <tr>\n",
       "      <th>30240</th>\n",
       "      <td>0310414547</td>\n",
       "      <td>4</td>\n",
       "    </tr>\n",
       "    <tr>\n",
       "      <th>30365</th>\n",
       "      <td>0102775133</td>\n",
       "      <td>4</td>\n",
       "    </tr>\n",
       "  </tbody>\n",
       "</table>\n",
       "</div>"
      ],
      "text/plain": [
       "              com  topic\n",
       "233    0900609115      4\n",
       "318    0303974996      4\n",
       "817    0314639929      4\n",
       "843    0315515531      4\n",
       "1336   0312253408      4\n",
       "1386   0304950074      4\n",
       "1488   0311020961      4\n",
       "1513   0311779124      4\n",
       "1579   0315197688      4\n",
       "1680   0315937004      4\n",
       "2135   0313090019      4\n",
       "2155   0600793417      4\n",
       "2394   0201706814      4\n",
       "2559   0109085139      4\n",
       "2586   0312891658      4\n",
       "2710   0107758565      4\n",
       "2867   0314558268      4\n",
       "3093   0107513766      4\n",
       "3196   0315223497      4\n",
       "3427   4300317823      4\n",
       "3556   0108605096      4\n",
       "3772   0312027078      4\n",
       "3830   0108838171      4\n",
       "3880   0305669469      4\n",
       "3911   0315891021      4\n",
       "3981   0315972873      4\n",
       "4154   1101944510      4\n",
       "4212   0316266969      4\n",
       "4454   0109335999      4\n",
       "4480   0316491925      4\n",
       "4486   0316506466      4\n",
       "4705   2301170471      4\n",
       "4794   0313011810      4\n",
       "5002   0313407756      4\n",
       "5044   0107373068      4\n",
       "5143   0314234055      4\n",
       "5170   4001063874      4\n",
       "5188   1201550421      4\n",
       "5278   0310993943      4\n",
       "5295   0108016407      4\n",
       "5305   0314281626      4\n",
       "5396   0107978539      4\n",
       "5563   0313023894      4\n",
       "5704   0316116258      4\n",
       "5965   2700898199      4\n",
       "6101   0308736963      4\n",
       "6110   0101438181      4\n",
       "6181   0106377736      4\n",
       "6586   0107075826      4\n",
       "6681   0316150033      4\n",
       "6755   0314006612      4\n",
       "7019   0313603863      4\n",
       "7061   0316038867      4\n",
       "7133   0315227117      4\n",
       "7270   0315679882      4\n",
       "7370   0314626912      4\n",
       "7376   0108839979      4\n",
       "7718   0312216188      4\n",
       "8205   0316782547      4\n",
       "8339   0316750418      4\n",
       "8346   0109547143      4\n",
       "8434   0109536279      4\n",
       "8534   0316700583      4\n",
       "8562   4201920981      4\n",
       "8613   0316678747      4\n",
       "8615   0109500561      4\n",
       "8661   1001220218      4\n",
       "8696   0316660274      4\n",
       "8714   0316647837      4\n",
       "9056   0109388849      4\n",
       "9093   0109386866      4\n",
       "9121   0316548699      4\n",
       "9199   0109368585      4\n",
       "9300   2902067006      4\n",
       "9406   0109330976      4\n",
       "9516   0109315946      4\n",
       "9562   0109303690      4\n",
       "9658   2200476953      4\n",
       "9735   3200711038      4\n",
       "9779   0106919315      4\n",
       "9869   3603736980      4\n",
       "10009  0109247823      4\n",
       "10040  0402048763      4\n",
       "10275  3702877573      4\n",
       "10377  0109181266      4\n",
       "10574  0316208678      4\n",
       "10599  0316201224      4\n",
       "10633  3603713246      4\n",
       "11088  0316076809      4\n",
       "11744  5702011523      4\n",
       "11833  1301080441      4\n",
       "11869  0315847086      4\n",
       "11932  5702005801      4\n",
       "11976  0315832442      4\n",
       "12039  0315811604      4\n",
       "12167  0315769261      4\n",
       "12254  2400866566      4\n",
       "12402  3401188347      4\n",
       "12417  0108761070      4\n",
       "12524  0315661885      4\n",
       "12574  0315653154      4\n",
       "12666  4001177790      4\n",
       "12778  0108668480      4\n",
       "12787  0108676393      4\n",
       "12910  0108649946      4\n",
       "12916  0315562771      4\n",
       "12937  0901052797      4\n",
       "13022  0315541820      4\n",
       "13167  0315472214      4\n",
       "13352  3502381837      4\n",
       "13397  0315426722      4\n",
       "13470  0315392255      4\n",
       "13547  0315373358      4\n",
       "13591  0315347534      4\n",
       "13662  0315347421      4\n",
       "13753  3702707557      4\n",
       "13841  0401925595      4\n",
       "14059  0314880355      4\n",
       "14076  0315252025      4\n",
       "14081  0315249985      4\n",
       "14152  0314863060      4\n",
       "14221  0314844861      4\n",
       "14343  0108064947      4\n",
       "14620  2500606586      4\n",
       "14710  0315111391      4\n",
       "14752  6001615631      4\n",
       "14758  0315102340      4\n",
       "14759  0108317676      4\n",
       "14775  0315092808      4\n",
       "14815  0315069559      4\n",
       "15033  0314998942      4\n",
       "15086  0314971877      4\n",
       "15213  0108190797      4\n",
       "15339  0401883401      4\n",
       "15384  4001125908      4\n",
       "15397  0314705360      4\n",
       "15540  0314662621      4\n",
       "15595  0314633684      4\n",
       "15771  4601345711      4\n",
       "15797  0314561415      4\n",
       "16058  0314434294      4\n",
       "16080  0107876470      4\n",
       "16168  0314400432      4\n",
       "16247  0107821390      4\n",
       "16271  0107809851      4\n",
       "16458  0314271681      4\n",
       "16599  0314234947      4\n",
       "16635  3702532674      4\n",
       "16754  0314157481      4\n",
       "16796  0314145912      4\n",
       "16804  0107653523      4\n",
       "16922  0107617194      4\n",
       "17014  0107581420      4\n",
       "17052  0314054278      4\n",
       "17070  0314008472      4\n",
       "17099  0314005880      4\n",
       "17211  0313941245      4\n",
       "17294  0313898448      4\n",
       "17370  0313864826      4\n",
       "17436  0107462769      4\n",
       "17511  0313799359      4\n",
       "17539  0313798330      4\n",
       "17558  0313772854      4\n",
       "17567  0107410030      4\n",
       "17568  0313776270      4\n",
       "17889  4201672792      4\n",
       "17923  0201667675      4\n",
       "17938  0201663127      4\n",
       "17993  0313512165      4\n",
       "18052  0801146628      4\n",
       "18102  0313444331      4\n",
       "18158  0313425339      4\n",
       "18248  0106919548      4\n",
       "18286  0313350281      4\n",
       "18343  0313304704      4\n",
       "18354  0313300259      4\n",
       "18413  0313258159      4\n",
       "18636  0106793662      4\n",
       "18662  1200730277      4\n",
       "18810  0106767133      4\n",
       "18818  0313123401      4\n",
       "18858  0106748317      4\n",
       "18943  0312740754      4\n",
       "18971  6100254915      4\n",
       "19008  0105155427      4\n",
       "19022  0104165260      4\n",
       "19053  0104246689      4\n",
       "19102  1800700059      4\n",
       "19140  3602503775      4\n",
       "19161  0104739370      4\n",
       "19280  0310710401      4\n",
       "19449  0105927673      4\n",
       "19480  3700719003      4\n",
       "19653  3702122371      4\n",
       "19958  0106458801      4\n",
       "20035  0313031870      4\n",
       "20051  0106631830      4\n",
       "20361  0105458654      4\n",
       "20391  0105618989      4\n",
       "20570  4000973052      4\n",
       "20681  0312924399      4\n",
       "20737  1200978101      4\n",
       "20749  5400343314      4\n",
       "20844  0306422129      4\n",
       "20845  0305254030      4\n",
       "20872  0312745720      4\n",
       "20917  0312788749      4\n",
       "20984  0312552743      4\n",
       "21013  0312244918      4\n",
       "21020  0312246841      4\n",
       "21070  0312183140      4\n",
       "21071  0312185885      4\n",
       "21105  0312083636      4\n",
       "21148  0311995580      4\n",
       "21171  0311958363      4\n",
       "21200  0311915810      4\n",
       "21332  0311327745      4\n",
       "21391  0311030215      4\n",
       "21500  0310673809      4\n",
       "21539  0310359039      4\n",
       "21551  0310228702      4\n",
       "21602  0309838365      4\n",
       "21604  0309849247      4\n",
       "21618  0309466678      4\n",
       "21649  0309267344      4\n",
       "21787  0305422574      4\n",
       "21842  0304604892      4\n",
       "21922  0303636820      4\n",
       "23036  0108264336      4\n",
       "23258  0310956959      4\n",
       "23510  0104486320      4\n",
       "23876  0109159711      4\n",
       "24005  0313931688      4\n",
       "24676  0315128821      4\n",
       "24837  0316116032      4\n",
       "24932  0108281973      4\n",
       "25197  1100743434      4\n",
       "25395  0108408683      4\n",
       "25445  0107682651      4\n",
       "25465  0106127373      4\n",
       "25689  0101929895      4\n",
       "25974  0314329518      4\n",
       "26131  0108745625      4\n",
       "26320  0314592156      4\n",
       "26424  0309613019      4\n",
       "26581  0302531889      4\n",
       "26994  0103407936      4\n",
       "27044  0101035947      4\n",
       "27150  0312163296      4\n",
       "27218  0313046838      4\n",
       "27309  0201074682      4\n",
       "27424  0107536770      4\n",
       "27659  0108835773      4\n",
       "27671  0108597712      4\n",
       "27890  0312985874      4\n",
       "28118  0106629567      4\n",
       "28310  0314438764      4\n",
       "28389  3702539775      4\n",
       "28398  0305188275      4\n",
       "28402  0314455576      4\n",
       "29132  0107926749      4\n",
       "29570  0101757237      4\n",
       "30240  0310414547      4\n",
       "30365  0102775133      4"
      ]
     },
     "execution_count": 62,
     "metadata": {},
     "output_type": "execute_result"
    }
   ],
   "source": [
    "df_com.loc[df_com['topic']==4]"
   ]
  },
  {
   "cell_type": "code",
   "execution_count": 52,
   "metadata": {
    "ExecuteTime": {
     "end_time": "2021-07-05T11:12:14.866975Z",
     "start_time": "2021-07-05T11:12:14.863828Z"
    }
   },
   "outputs": [],
   "source": [
    "from sklearn.metrics.pairwise import cosine_similarity"
   ]
  },
  {
   "cell_type": "code",
   "execution_count": 53,
   "metadata": {
    "ExecuteTime": {
     "end_time": "2021-07-05T11:12:39.828998Z",
     "start_time": "2021-07-05T11:12:16.042419Z"
    }
   },
   "outputs": [],
   "source": [
    "cosine_matrix = cosine_similarity(tfidf_content)"
   ]
  },
  {
   "cell_type": "code",
   "execution_count": 63,
   "metadata": {
    "ExecuteTime": {
     "end_time": "2021-07-05T11:21:56.599610Z",
     "start_time": "2021-07-05T11:21:56.595796Z"
    }
   },
   "outputs": [],
   "source": [
    "def get_k_similarity(id_com, k):\n",
    "    similarity = cosine_matrix[id_com].argsort()[::-1][:k]\n",
    "    return [idx_company[i] for i in similarity]"
   ]
  },
  {
   "cell_type": "code",
   "execution_count": 64,
   "metadata": {
    "ExecuteTime": {
     "end_time": "2021-07-05T11:22:10.564607Z",
     "start_time": "2021-07-05T11:22:10.557373Z"
    }
   },
   "outputs": [
    {
     "data": {
      "text/plain": [
       "['0316128101',\n",
       " '0309503376',\n",
       " '0309514882',\n",
       " '0107559947',\n",
       " '0312950568',\n",
       " '0313035018',\n",
       " '0104166095',\n",
       " '0316346999',\n",
       " '0315788810',\n",
       " '0107857703']"
      ]
     },
     "execution_count": 64,
     "metadata": {},
     "output_type": "execute_result"
    }
   ],
   "source": [
    "get_k_similarity(0, 10)"
   ]
  },
  {
   "cell_type": "code",
   "execution_count": 110,
   "metadata": {
    "ExecuteTime": {
     "end_time": "2021-07-06T01:21:37.986440Z",
     "start_time": "2021-07-06T01:21:37.976934Z"
    }
   },
   "outputs": [
    {
     "data": {
      "text/plain": [
       "0    Counter({'học': 1614, 'và': 714, 'trường': 659...\n",
       "Name: bow, dtype: object"
      ]
     },
     "execution_count": 110,
     "metadata": {},
     "output_type": "execute_result"
    }
   ],
   "source": [
    "df_company['bow'].loc[df_company['company']=='0316128101']"
   ]
  },
  {
   "cell_type": "code",
   "execution_count": null,
   "metadata": {},
   "outputs": [],
   "source": []
  }
 ],
 "metadata": {
  "kernelspec": {
   "display_name": "Python 3",
   "language": "python",
   "name": "python3"
  },
  "language_info": {
   "codemirror_mode": {
    "name": "ipython",
    "version": 3
   },
   "file_extension": ".py",
   "mimetype": "text/x-python",
   "name": "python",
   "nbconvert_exporter": "python",
   "pygments_lexer": "ipython3",
   "version": "3.8.8"
  },
  "toc": {
   "base_numbering": 1,
   "nav_menu": {},
   "number_sections": true,
   "sideBar": true,
   "skip_h1_title": false,
   "title_cell": "Table of Contents",
   "title_sidebar": "Contents",
   "toc_cell": false,
   "toc_position": {},
   "toc_section_display": true,
   "toc_window_display": false
  }
 },
 "nbformat": 4,
 "nbformat_minor": 4
}
